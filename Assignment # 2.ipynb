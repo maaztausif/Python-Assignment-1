{
 "cells": [
  {
   "cell_type": "markdown",
   "metadata": {},
   "source": [
    "## Question # 1 : Marksheet"
   ]
  },
  {
   "cell_type": "code",
   "execution_count": 2,
   "metadata": {},
   "outputs": [
    {
     "name": "stdout",
     "output_type": "stream",
     "text": [
      "Each Subject 100 Marks\n",
      "Math:23\n",
      "Physics:34\n",
      "Calculus:57\n",
      "Oop:99\n",
      "Cs:99\n",
      "Total Marks:  312\n",
      "Percentage:  62.4 %\n",
      "C Grade\n"
     ]
    }
   ],
   "source": [
    "print(\"Each Subject 100 Marks\")\n",
    "sub1 = int(input(\"Math:\"))\n",
    "sub2 = int(input(\"Physics:\"))\n",
    "sub3 = int(input(\"Calculus:\"))\n",
    "sub4 = int(input(\"Oop:\"))\n",
    "sub5 = int(input(\"Cs:\"))\n",
    "\n",
    "total = (sub1+sub2+sub3+sub4+sub5)\n",
    "\n",
    "print(\"Total Marks: \",total)\n",
    "maxMarks = 500\n",
    "percentage = (total/maxMarks) * 100\n",
    "\n",
    "if percentage >= 50:\n",
    " print(\"Percentage: \",percentage,\"%\")\n",
    " print(\"C Grade\") \n",
    "elif percentage >= 60:\n",
    " print(\"Percentage: \",percentage,\"%\")\n",
    " print(\"B Grade\")\n",
    "elif percentage >= 70: \n",
    " print(\"Percentage: \",percentage,\"%\")\n",
    " print(\"A Grade\")\n",
    "elif percentage >= 50: \n",
    " print(\"Percentage: \",percentage,\"%\")\n",
    " print(\"A+ Grade\")\n",
    "else:\n",
    " print(\"Percentage: \",percentage,\"%\")\n",
    " print(\"F Grade\")\n",
    "\n",
    " \n",
    "\n",
    "\n"
   ]
  },
  {
   "cell_type": "markdown",
   "metadata": {},
   "source": [
    "## Question # 2 : Even Odd"
   ]
  },
  {
   "cell_type": "code",
   "execution_count": 6,
   "metadata": {},
   "outputs": [
    {
     "name": "stdout",
     "output_type": "stream",
     "text": [
      "Enter your digit:6\n",
      "6 is Even Number\n"
     ]
    }
   ],
   "source": [
    "n = int(input(\"Enter your digit:\"))\n",
    "\n",
    "if n%2 == 0:\n",
    " print(f\"{n} is Even Number\")\n",
    "else:\n",
    " print(f\"{n} is Odd Number\")\n"
   ]
  },
  {
   "cell_type": "markdown",
   "metadata": {},
   "source": [
    "## Question # 3 : Lenght Of A List"
   ]
  },
  {
   "cell_type": "code",
   "execution_count": 7,
   "metadata": {},
   "outputs": [
    {
     "name": "stdout",
     "output_type": "stream",
     "text": [
      "['1', '2', '3']\n",
      "Length of list:  3\n"
     ]
    }
   ],
   "source": [
    "list_1 = [\"1\", \"2\", \"3\"]\n",
    "\n",
    "print(list_1)\n",
    "print(\"Length of list: \",len(list_1))\n"
   ]
  },
  {
   "cell_type": "markdown",
   "metadata": {},
   "source": [
    "## Question # 4 : Sum Of List"
   ]
  },
  {
   "cell_type": "code",
   "execution_count": 17,
   "metadata": {},
   "outputs": [
    {
     "name": "stdout",
     "output_type": "stream",
     "text": [
      "[1, 2, 3, 4, 5]\n",
      "Sum of all in list:  15\n"
     ]
    }
   ],
   "source": [
    "list_1 = [1, 2, 3, 4, 5]\n",
    "s=0\n",
    "\n",
    "for i in list_1:\n",
    "    s+=i\n",
    "print(list_1)\n",
    "print(\"Sum of all in list: \",s)\n"
   ]
  },
  {
   "cell_type": "markdown",
   "metadata": {},
   "source": [
    "## Question # 5 : Largest No In List"
   ]
  },
  {
   "cell_type": "code",
   "execution_count": 18,
   "metadata": {},
   "outputs": [
    {
     "name": "stdout",
     "output_type": "stream",
     "text": [
      "[1, 99, 145, 21]\n",
      "largest no is: 145\n"
     ]
    }
   ],
   "source": [
    "list = [1, 99, 145, 21]\n",
    "print(list)\n",
    "print(\"largest no is:\",max(list))\n"
   ]
  },
  {
   "cell_type": "markdown",
   "metadata": {},
   "source": [
    "## Question # 6 : Print In List Less Then 5"
   ]
  },
  {
   "cell_type": "code",
   "execution_count": 19,
   "metadata": {},
   "outputs": [
    {
     "name": "stdout",
     "output_type": "stream",
     "text": [
      "[1, 1, 2, 3, 4, 8, 13, 21, 34, 55, 89]\n",
      "1\n",
      "1\n",
      "2\n",
      "3\n",
      "4\n"
     ]
    }
   ],
   "source": [
    "a = [1,1,2,3,4,8,13,21,34,55,89]\n",
    "\n",
    "print(a)\n",
    "\n",
    "for i in a:\n",
    " if i<5:\n",
    "  print(i)\n",
    "\n",
    "\n"
   ]
  },
  {
   "cell_type": "code",
   "execution_count": null,
   "metadata": {},
   "outputs": [],
   "source": []
  }
 ],
 "metadata": {
  "kernelspec": {
   "display_name": "Python 3",
   "language": "python",
   "name": "python3"
  },
  "language_info": {
   "codemirror_mode": {
    "name": "ipython",
    "version": 3
   },
   "file_extension": ".py",
   "mimetype": "text/x-python",
   "name": "python",
   "nbconvert_exporter": "python",
   "pygments_lexer": "ipython3",
   "version": "3.7.3"
  }
 },
 "nbformat": 4,
 "nbformat_minor": 2
}
